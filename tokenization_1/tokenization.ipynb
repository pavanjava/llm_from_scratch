{
 "cells": [
  {
   "cell_type": "code",
   "id": "initial_id",
   "metadata": {
    "collapsed": true,
    "ExecuteTime": {
     "end_time": "2025-01-31T08:24:58.965096Z",
     "start_time": "2025-01-31T08:24:58.961564Z"
    }
   },
   "source": [
    "with open(\"the-verdict.txt\" , \"r\", encoding=\"utf-8\") as f:\n",
    "    raw_text = f.read()\n",
    "    \n",
    "print(f\"total number of characters: {len(raw_text)}\")\n",
    "print(raw_text[:100])"
   ],
   "outputs": [
    {
     "name": "stdout",
     "output_type": "stream",
     "text": [
      "total number of characters: 20479\n",
      "I HAD always thought Jack Gisburn rather a cheap genius--though a good fellow enough--so it was no g\n"
     ]
    }
   ],
   "execution_count": 3
  },
  {
   "metadata": {
    "ExecuteTime": {
     "end_time": "2025-01-31T08:40:49.752892Z",
     "start_time": "2025-01-31T08:40:49.750206Z"
    }
   },
   "cell_type": "code",
   "source": "sample_text = \"Hello, this is a simple --test for the tokenization process!.\"",
   "id": "fbd616799fd88ab2",
   "outputs": [],
   "execution_count": 7
  },
  {
   "metadata": {
    "ExecuteTime": {
     "end_time": "2025-01-31T08:46:41.337605Z",
     "start_time": "2025-01-31T08:46:41.333160Z"
    }
   },
   "cell_type": "code",
   "source": [
    "import re\n",
    "\n",
    "processed_sample_text = re.split(r'([,.:;!@#$%^&*?_\"()\\']|--|\\s)', sample_text)\n",
    "\n",
    "sample_tokens = [text.strip() for text in processed_sample_text if text.strip()]"
   ],
   "id": "5805f47fa1362f0",
   "outputs": [
    {
     "data": {
      "text/plain": [
       "['Hello',\n",
       " ',',\n",
       " 'this',\n",
       " 'is',\n",
       " 'a',\n",
       " 'simple',\n",
       " '--',\n",
       " 'test',\n",
       " 'for',\n",
       " 'the',\n",
       " 'tokenization',\n",
       " 'process',\n",
       " '!',\n",
       " '.']"
      ]
     },
     "execution_count": 13,
     "metadata": {},
     "output_type": "execute_result"
    }
   ],
   "execution_count": 13
  },
  {
   "metadata": {
    "ExecuteTime": {
     "end_time": "2025-01-31T08:49:35.695834Z",
     "start_time": "2025-01-31T08:49:35.687923Z"
    }
   },
   "cell_type": "code",
   "source": [
    "processed_text = re.split(r'([,.:;!@#$%^&*?_\"()\\']|--|\\s)', raw_text)\n",
    "processed_tokens = [text.strip() for text in processed_text if text.strip()]\n",
    "\n",
    "print(f\"length of processed text: {len(processed_text)}\")\n",
    "print(f\"length of processed text: {len(processed_tokens)}\")"
   ],
   "id": "f5feba53c9216fb0",
   "outputs": [
    {
     "name": "stdout",
     "output_type": "stream",
     "text": [
      "length of processed text: 9235\n",
      "length of processed text: 4690\n"
     ]
    }
   ],
   "execution_count": 14
  },
  {
   "metadata": {},
   "cell_type": "markdown",
   "source": "### Tokens to Ids",
   "id": "e93fc6415ce0a1f8"
  },
  {
   "metadata": {
    "ExecuteTime": {
     "end_time": "2025-01-31T08:54:19.507602Z",
     "start_time": "2025-01-31T08:54:19.504322Z"
    }
   },
   "cell_type": "code",
   "source": [
    "all_words = sorted(set(processed_tokens))\n",
    "print(f\"vocab size: {len(all_words)}\")"
   ],
   "id": "42707f2efd55201b",
   "outputs": [
    {
     "name": "stdout",
     "output_type": "stream",
     "text": [
      "vocab size: 1130\n"
     ]
    }
   ],
   "execution_count": 16
  },
  {
   "metadata": {
    "ExecuteTime": {
     "end_time": "2025-01-31T08:55:33.332325Z",
     "start_time": "2025-01-31T08:55:33.328996Z"
    }
   },
   "cell_type": "code",
   "source": "vocab = {word: idx for idx, word in enumerate(all_words)}",
   "id": "f11396d287306745",
   "outputs": [],
   "execution_count": 18
  },
  {
   "metadata": {},
   "cell_type": "code",
   "outputs": [],
   "execution_count": null,
   "source": "",
   "id": "93c8d7440eb597fd"
  }
 ],
 "metadata": {
  "kernelspec": {
   "display_name": "Python 3",
   "language": "python",
   "name": "python3"
  },
  "language_info": {
   "codemirror_mode": {
    "name": "ipython",
    "version": 2
   },
   "file_extension": ".py",
   "mimetype": "text/x-python",
   "name": "python",
   "nbconvert_exporter": "python",
   "pygments_lexer": "ipython2",
   "version": "2.7.6"
  }
 },
 "nbformat": 4,
 "nbformat_minor": 5
}
